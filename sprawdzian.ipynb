{
 "cells": [
  {
   "cell_type": "code",
   "execution_count": null,
   "metadata": {},
   "outputs": [],
   "source": [
    "imię: Wojtek\n",
    "\n",
    "nazwisko: Świeboda"
   ]
  },
  {
   "cell_type": "markdown",
   "metadata": {},
   "source": [
    "### zad 1. \n",
    "\n",
    "Wymień znane Ci struktury danych w Pythonie. Które z nich są mutowalne a które nie?"
   ]
  },
  {
   "cell_type": "markdown",
   "metadata": {},
   "source": [
    "lista - mutowalna, tupla (krotka) - niemutowalna, słownik - mutowalna, zbiór - mutowalna "
   ]
  },
  {
   "cell_type": "markdown",
   "metadata": {},
   "source": [
    "### zad 2. \n",
    "\n",
    "Czy umiesz wytłumaczyć co to jest sekwencja? Jakie sekwencje znasz?"
   ]
  },
  {
   "cell_type": "markdown",
   "metadata": {},
   "source": [
    "sekwencja to inaczej dane przechowywane w określonym porządku - każdy element ma swoje przypisane miejsce, które da się wywołać. Przykładem jest lista. Nieuporządkowaną strukturę ma natomiast zbiór."
   ]
  },
  {
   "cell_type": "markdown",
   "metadata": {},
   "source": [
    "Sekwencje to przykładowo wpomniana lista, napis, tupla (krotka)"
   ]
  },
  {
   "cell_type": "markdown",
   "metadata": {},
   "source": [
    "### zad 3.\n",
    "\n",
    "Wybierz co trzeci znak z napisu \"abrakadabra\". Przypisz go do zmiennej `tekst`"
   ]
  },
  {
   "cell_type": "code",
   "execution_count": null,
   "metadata": {},
   "outputs": [],
   "source": [
    "tekst = \"abrakakdabra\"\n",
    "tekst[0::,3]"
   ]
  },
  {
   "cell_type": "markdown",
   "metadata": {},
   "source": [
    "### zad 4.\n",
    "\n",
    "Zaprezentuj jak działa wyrażenie warunkowe. Postaraj się o przykład pokazujący wszystkie znane Ci aspekty wyrażenia warunkowego\n"
   ]
  },
  {
   "cell_type": "code",
   "execution_count": 16,
   "metadata": {},
   "outputs": [
    {
     "name": "stdout",
     "output_type": "stream",
     "text": [
      "Podaj dowolną liczbę całkowitą: -7\n",
      "Podana liczba dzieli się przez 4 lub 7\n"
     ]
    }
   ],
   "source": [
    "a = int(input(\"Podaj dowolną liczbę całkowitą: \"))\n",
    "if a > 10:\n",
    "    print(\"Liczba jest większa od 10\")\n",
    "elif a >= 0 and a <= 8:\n",
    "    print(\"Liczba znajduje się w przedziale między 0 a 8\")\n",
    "elif a % 4 == 0 or a % 7 == 0:\n",
    "        print(\"Podana liczba dzieli się przez 4 lub 7\")\n",
    "else:\n",
    "    print(\"Podana liczba ani nie jest większa od 10 ani nie mieści się w przedziale od 0 do 8 ani nie dzieli się przez 4 ani 7\")"
   ]
  },
  {
   "cell_type": "markdown",
   "metadata": {},
   "source": [
    "### zad 5.\n",
    "\n",
    "Zaproponuj przykład użycia pętli `while`. Np. do odliczania od 10 do 0 z pomienięciem 5."
   ]
  },
  {
   "cell_type": "code",
   "execution_count": null,
   "metadata": {},
   "outputs": [],
   "source": [
    "x = 11\n",
    "while x >= 1:\n",
    "    x -= 1\n",
    "    if x == 5:\n",
    "        continue\n",
    "    print(x)"
   ]
  },
  {
   "cell_type": "markdown",
   "metadata": {},
   "source": [
    "### zad 6. \n",
    "\n",
    "Zaproponuj przykład użycia pętli `for`. W przykładzie użyj słownika i przeiteruj po elementach słownika (`items`)"
   ]
  },
  {
   "cell_type": "code",
   "execution_count": null,
   "metadata": {},
   "outputs": [],
   "source": [
    "doc = {\"Woda\": 2, \"Sok\": 3, \"Cola\": 4, \"Wino\": 7}\n",
    "for element in doc:\n",
    "    print(element)"
   ]
  },
  {
   "cell_type": "markdown",
   "metadata": {},
   "source": [
    "### zad 7.\n",
    "\n",
    "Zdefiniuj funkcję `power`, która przyjmie jeden lub dwa argumenty a i b. Argument b powinien przyjmować wartość domyślną tak, by poniższe wywałania miały sens:\n",
    "    \n",
    "    power(2, 3) == 8\n",
    "    power(4) == 16"
   ]
  },
  {
   "cell_type": "code",
   "execution_count": null,
   "metadata": {},
   "outputs": [],
   "source": [
    "def power(a, b):\n",
    "    c = a**b\n",
    "    d = a**2\n",
    "    print(c)\n",
    "    print(d)\n",
    "    return c\n",
    "\n",
    "power(2, 3)"
   ]
  },
  {
   "cell_type": "markdown",
   "metadata": {},
   "source": [
    "### zad 8. \n",
    "\n",
    "napisz funkcję, która przyjmie dowolną liczbę argumentów pozycyjnych i kluczowych i wypisze je na ekranie"
   ]
  },
  {
   "cell_type": "code",
   "execution_count": null,
   "metadata": {},
   "outputs": [],
   "source": [
    "def klucze(*args, **kwargs):\n",
    "    print(args)\n",
    "    print(kwargs)\n",
    "    return\n",
    "\n",
    "a= 3\n",
    "b = 10\n",
    "c = 12\n",
    "klucze(a, b, c)"
   ]
  },
  {
   "cell_type": "markdown",
   "metadata": {},
   "source": [
    "### zad 9.\n",
    "\n",
    "Zdefiniuj klasę `Osoba`, która będzie reprezentowała osobę. Osoba posiada atrybuty name, last_name, birth_year\n",
    "posiada też atrybut dynamiczny - age, który wylicza wiek na podstawie aktualnego roku i birth_year. Skorzystaj z 'datetime'. Dodatkowo klasa ta powinna mieć metodę info, która wypisz imie, nazwisko i wiek\n",
    "\n",
    "    osoba = Osoba(\"Johny\", \"Bravo\", 2000)\n",
    "    assert osoba.age == 20\n",
    "    assert osoba.info == \"Johny Bravo (20)\"\n"
   ]
  },
  {
   "cell_type": "code",
   "execution_count": null,
   "metadata": {},
   "outputs": [],
   "source": [
    "import datetime\n",
    "\n",
    "class Osoba:\n",
    "    def __init__(self, name, last_name, birth_name):\n",
    "        self.name = name\n",
    "        self.last_name = last_name\n",
    "        self.birth_name = birth_name\n",
    "    \n",
    "    def wiek(self, birth_name):\n",
    "        self.datetime.year = datetime.year\n",
    "        self.birth_name = int()\n",
    "        age = self.datetime.year - self.birth_name\n",
    "    "
   ]
  },
  {
   "cell_type": "markdown",
   "metadata": {},
   "source": [
    "### zad 10. \n",
    "\n",
    "Zdefiniuj klasę Student, która będzie dziedziczyć po klasie Osoba. Student w czasie tworzenia wymaga podania dodatkowego atrybutu - kierunek. W metodzie info należy rozszerzyć działanie metody info z klasy rodzica. Nie należy jednak całkowicie jej nadpisywać\n",
    "\n",
    "    student = Student(\"Johny\", \"Bravo\", 2000, \"physics\")\n",
    "    assert osoba.age == 20\n",
    "    assert osoba.info == \"Johny Bravo (20) - physics\""
   ]
  },
  {
   "cell_type": "code",
   "execution_count": null,
   "metadata": {},
   "outputs": [],
   "source": []
  },
  {
   "cell_type": "code",
   "execution_count": null,
   "metadata": {},
   "outputs": [],
   "source": []
  }
 ],
 "metadata": {
  "kernelspec": {
   "display_name": "Python 3",
   "language": "python",
   "name": "python3"
  }
 },
 "nbformat": 4,
 "nbformat_minor": 4
}
